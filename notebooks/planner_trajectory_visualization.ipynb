{
 "cells": [
  {
   "cell_type": "code",
   "execution_count": 1,
   "id": "d25a23ba",
   "metadata": {},
   "outputs": [],
   "source": [
    "import sys, os\n",
    "\n",
    "import matplotlib.pyplot as plt\n",
    "import numpy as np\n",
    "import torch\n",
    "from pytorch_lightning import seed_everything\n",
    "from tqdm import tqdm, trange\n",
    "\n",
    "from risk_biased.scene_dataset.scene_plotter import ScenePlotter\n",
    "\n",
    "sys.path.append(os.path.join(os.getcwd(), \"../scripts/eval_scripts\"))\n",
    "from evaluate_prediction_planning_stack import (\n",
    "    get_cfg_and_planner,  \n",
    "    get_scene_and_ado_trajectory, \n",
    "    get_ego_state_history_and_target_trajectory\n",
    ")"
   ]
  },
  {
   "cell_type": "code",
   "execution_count": 2,
   "id": "b5a7cc6a",
   "metadata": {},
   "outputs": [],
   "source": [
    "###### Paramaeters ######\n",
    "\n",
    "load_from = \"3svdfk8y\" # \"<set desired model ID (i.e., wandb run ID)>\" # \"1a5a1rv0\"\n",
    "\n",
    "seed = 0\n",
    "num_episodes = 500\n",
    "num_prediction_samples = 128\n",
    "\n",
    "scene_type = \"safer_fast\"\n",
    "\n",
    "risk_in_predictor = True\n",
    "optimize_policy = True\n",
    "stack_risk_level = 0.95\n",
    "\n",
    "episode_id = 1"
   ]
  },
  {
   "cell_type": "code",
   "execution_count": 3,
   "id": "84a77ef9",
   "metadata": {},
   "outputs": [
    {
     "name": "stdout",
     "output_type": "stream",
     "text": [
      "Loading last checkpoint.\n",
      "Loading existing dataset at /home/jeanmercat/Codes/risk_biased/risk_biased/scene_dataset/../../data/scene_dataset_005.\n",
      "switching to mean_warm_start = False for open-loop evaluation (i.e. without re-planning)\n"
     ]
    },
    {
     "name": "stderr",
     "output_type": "stream",
     "text": [
      "/home/jeanmercat/miniconda3/envs/risk_biased/lib/python3.7/site-packages/torch/nn/init.py:405: UserWarning: Initializing zero-element tensors is a no-op\n",
      "  warnings.warn(\"Initializing zero-element tensors is a no-op\")\n",
      "/home/jeanmercat/Codes/risk_biased/risk_biased/utils/load_model.py:197: UserWarning: When loading the model, the configuration was changed to match the configuration of the pre-trained model to be loaded.\n",
      "    The value of 'risk_weight' is now '10' instead of '1'.\n",
      "  warnings.warn(warning_message)\n"
     ]
    }
   ],
   "source": [
    "###### Setup Planner ######\n",
    "\n",
    "sys.argv = sys.argv[:1] + [\"--load_from\", load_from, \"--load_last\"]\n",
    "\n",
    "cfg, planner = get_cfg_and_planner(load_from=\"\")\n",
    "\n",
    "if not planner.solver.params.mean_warm_start == False:\n",
    "    print(\n",
    "        \"switching to mean_warm_start = False for open-loop evaluation (i.e. without re-planning)\"\n",
    "    )\n",
    "    planner.solver.params.mean_warm_start = False"
   ]
  },
  {
   "cell_type": "code",
   "execution_count": 4,
   "id": "6b5f6ab2",
   "metadata": {},
   "outputs": [
    {
     "name": "stderr",
     "output_type": "stream",
     "text": [
      "/home/jeanmercat/Codes/risk_biased/risk_biased/scene_dataset/scene.py:186: UserWarning: Some of the given pedestrian initial positions are outside of the road range\n",
      "  \"Some of the given pedestrian initial positions are outside of the road range\"\n"
     ]
    }
   ],
   "source": [
    "###### Setup Scene ######\n",
    "\n",
    "(\n",
    "    scene,\n",
    "    ado_state_history_batch,\n",
    "    ado_state_future_batch,\n",
    ") = get_scene_and_ado_trajectory(\n",
    "    cfg, scene_type=scene_type, num_episodes=num_episodes\n",
    ")\n",
    "\n",
    "(\n",
    "    ego_state_history,\n",
    "    ego_state_target_trajectory,\n",
    ") = get_ego_state_history_and_target_trajectory(cfg, scene)"
   ]
  },
  {
   "cell_type": "code",
   "execution_count": 5,
   "id": "98a4e415",
   "metadata": {},
   "outputs": [],
   "source": [
    "ado_state_history = ado_state_history_batch[episode_id]\n",
    "ado_state_future = ado_state_future_batch[episode_id]"
   ]
  },
  {
   "cell_type": "code",
   "execution_count": 6,
   "id": "2de7cb3f",
   "metadata": {},
   "outputs": [],
   "source": [
    "###### Optimize Ego Trajectory ######\n",
    "\n",
    "if optimize_policy:\n",
    "    solver_info = planner.solver.solve(\n",
    "        planner.predictor,\n",
    "        ego_state_history,\n",
    "        ego_state_target_trajectory,\n",
    "        ado_state_history,\n",
    "        planner.normalizer,\n",
    "        num_prediction_samples=num_prediction_samples,\n",
    "        verbose=False,\n",
    "        risk_level=stack_risk_level,\n",
    "        resample_prediction=False,\n",
    "        risk_in_predictor=risk_in_predictor,\n",
    "    )\n",
    "else:\n",
    "    planner.solver.reset()"
   ]
  },
  {
   "cell_type": "code",
   "execution_count": 7,
   "id": "c65231ec",
   "metadata": {},
   "outputs": [],
   "source": [
    "ego_position_planned_trajectory = planner.dynamics_model.simulate(\n",
    "    ego_state_history[..., -1],\n",
    "    planner.solver.control_sequence\n",
    ").position.squeeze(0)\n",
    "\n",
    "ego_position_trajectory = torch.cat(\n",
    "    (ego_state_history.position.squeeze(0), ego_position_planned_trajectory),\n",
    "    dim=0\n",
    ")\n",
    "ado_position_trajectory = torch.cat(\n",
    "    (ado_state_history.position.squeeze(0), ado_state_future.position.squeeze(0)),\n",
    "    dim=0\n",
    ")\n",
    "ado_predictions = planner.solver.fetch_latest_prediction().position"
   ]
  },
  {
   "cell_type": "code",
   "execution_count": 8,
   "id": "b9893f40",
   "metadata": {},
   "outputs": [],
   "source": [
    "if stack_risk_level == 0.0:\n",
    "    risk_level_directory_description = \"risk_level_0.0\"\n",
    "else:\n",
    "    risk_level_directory_description = f\"risk_level_{stack_risk_level}_in_{'predictor' if risk_in_predictor else 'planner'}\"\n",
    "save_dir = os.path.join(\n",
    "    os.getcwd(), \n",
    "    f\"trajectory_{load_from}_{scene_type}_seed_{seed}\",\n",
    "    f\"episode_{episode_id}_of_{num_episodes}\",\n",
    "    f\"num_samples_{num_prediction_samples}\",\n",
    "    risk_level_directory_description)\n",
    "if not os.path.exists(save_dir):\n",
    "    os.makedirs(save_dir)"
   ]
  },
  {
   "cell_type": "code",
   "execution_count": null,
   "id": "e3b6de3c",
   "metadata": {},
   "outputs": [],
   "source": []
  },
  {
   "cell_type": "code",
   "execution_count": 10,
   "id": "afe0a33c",
   "metadata": {},
   "outputs": [
    {
     "name": "stderr",
     "output_type": "stream",
     "text": [
      "100%|██████████| 45/45 [00:17<00:00,  2.58it/s]\n"
     ]
    },
    {
     "name": "stdout",
     "output_type": "stream",
     "text": [
      "Figures saved to /home/jeanmercat/Codes/risk_biased/notebooks/trajectory_3svdfk8y_safer_fast_seed_0/episode_1_of_500/num_samples_128/risk_level_0.95_in_predictor\n"
     ]
    },
    {
     "data": {
      "text/plain": [
       "0"
      ]
     },
     "execution_count": 10,
     "metadata": {},
     "output_type": "execute_result"
    },
    {
     "data": {
      "image/png": "[encoded data removed]",
      "text/plain": [
       "<Figure size 2666.67x400 with 1 Axes>"
      ]
     },
     "metadata": {},
     "output_type": "display_data"
    }
   ],
   "source": [
    "fig, ax = plt.subplots()\n",
    "\n",
    "plotter = ScenePlotter(scene, ax=ax)\n",
    "fig.set_size_inches(h=scene.road_width / 3 + 1, w=scene.road_length / 3)\n",
    "\n",
    "for time_idx in trange(cfg.num_steps_future):\n",
    "    ax.clear()\n",
    "    time = cfg.dt * (cfg.num_steps + time_idx)\n",
    "    plotter.draw_scene(episode_id, time=time, ego_pos_x = ego_position_planned_trajectory[time_idx][0].item())\n",
    "    plotter.draw_all_trajectories(\n",
    "        prediction=ado_predictions, label=\"Predicted Trajectory\", color=\"red\", final_index=time_idx\n",
    "    )\n",
    "    ax.set_title(f\"Time: {cfg.dt * time_idx :.1f} (s)\", fontsize=22)\n",
    "    ax.plot([ego_position_trajectory[0][0].item(), ego_position_trajectory[cfg.num_steps + time_idx][0].item()],\n",
    "            [0, 0], linewidth=4.0, color=\"red\")\n",
    "    ax.plot([ado_position_trajectory[0][0].item(), ado_position_trajectory[cfg.num_steps + time_idx][0].item()],\n",
    "            [ado_position_trajectory[0][1].item(), ado_position_trajectory[cfg.num_steps + time_idx][1].item()],\n",
    "            linewidth=4.0, color=\"blue\")\n",
    "    plt.savefig(os.path.join(save_dir, f\"plot_{time_idx:03d}.png\"))\n",
    "    # plt.savefig(os.path.join(save_dir, f\"plot_{time_idx}.svg\"))\n",
    "\n",
    "print(f\"Figures saved to {save_dir}\")\n",
    "# Might need to run #sudo apt-get install imagemagick in the terminal to get this next line to work\n",
    "os.system(\"convert -delay 10 -loop 0 \" + os.path.join(save_dir, \"plot_*.png\") + \" \" + os.path.join(save_dir, \"animation.gif\"))"
   ]
  },
  {
   "cell_type": "code",
   "execution_count": null,
   "id": "ff225c05",
   "metadata": {},
   "outputs": [],
   "source": []
  }
 ],
 "metadata": {
  "kernelspec": {
   "display_name": "Python 3.7.13 ('risk_biased')",
   "language": "python",
   "name": "python3"
  },
  "language_info": {
   "codemirror_mode": {
    "name": "ipython",
    "version": 3
   },
   "file_extension": ".py",
   "mimetype": "text/x-python",
   "name": "python",
   "nbconvert_exporter": "python",
   "pygments_lexer": "ipython3",
   "version": "3.7.13"
  },
  "vscode": {
   "interpreter": {
    "hash": "a1479098f155d52cde87e35cb1613d4d825087d81bb03677a9d084ad747a84cc"
   }
  }
 },
 "nbformat": 4,
 "nbformat_minor": 5
}
